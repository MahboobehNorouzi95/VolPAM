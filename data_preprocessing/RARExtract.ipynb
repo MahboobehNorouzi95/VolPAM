{
 "cells": [
  {
   "cell_type": "code",
   "execution_count": null,
   "metadata": {},
   "outputs": [],
   "source": [
    "!pip install unrar\n",
    "!pip install rarfile\n",
    "!pip install patool\n",
    "!pip install py7zr\n",
    "!brew install unrar\n",
    "import patoolib\n",
    "import rarfile\n",
    "import os\n",
    "import sys"
   ]
  },
  {
   "cell_type": "code",
   "execution_count": null,
   "metadata": {},
   "outputs": [],
   "source": [
    "rarfile.UNRAR_TOOL = \"unrar\""
   ]
  },
  {
   "cell_type": "code",
   "execution_count": null,
   "metadata": {},
   "outputs": [],
   "source": [
    "def unrar1(dpath):\n",
    "    for root, dirs, files in os.walk(dpath):\n",
    "        for file in files:\n",
    "             filepath = os.path.join(dpath, file)\n",
    "             basename_without_ext = os.path.splitext(os.path.basename(file))[0]        \n",
    "             xpath = os.path.join(dpath, basename_without_ext)\n",
    "             patoolib.extract_archive(filepath, outdir=xpath)"
   ]
  },
  {
   "cell_type": "code",
   "execution_count": null,
   "metadata": {
    "scrolled": true
   },
   "outputs": [],
   "source": [
    "unrar1('Your Path Here')"
   ]
  },
  {
   "cell_type": "code",
   "execution_count": null,
   "metadata": {},
   "outputs": [],
   "source": [
    "folder = 'Your Path Here'\n",
    "for filename in os.listdir(folder):\n",
    "    infilename = os.path.join(folder,filename)\n",
    "    if not os.path.isfile(infilename): continue\n",
    "    oldbase = os.path.splitext(filename)\n",
    "    newname = infilename.replace('.rar', '.zip')\n",
    "    output = os.rename(infilename, newname)"
   ]
  }
 ],
 "metadata": {
  "kernelspec": {
   "display_name": "Python 3 (ipykernel)",
   "language": "python",
   "name": "python3"
  },
  "language_info": {
   "codemirror_mode": {
    "name": "ipython",
    "version": 3
   },
   "file_extension": ".py",
   "mimetype": "text/x-python",
   "name": "python",
   "nbconvert_exporter": "python",
   "pygments_lexer": "ipython3",
   "version": "3.9.13"
  }
 },
 "nbformat": 4,
 "nbformat_minor": 4
}
