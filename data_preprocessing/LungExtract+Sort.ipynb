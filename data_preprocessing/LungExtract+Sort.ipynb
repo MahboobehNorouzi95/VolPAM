{
 "cells": [
  {
   "cell_type": "code",
   "execution_count": null,
   "metadata": {},
   "outputs": [],
   "source": [
    "! pip install pydicom\n",
    "import cv2\n",
    "import numpy\n",
    "import glob\n",
    "import os\n",
    "import pydicom # pydicom is using the gdcm package for decompression\n",
    "import matplotlib.pyplot as plt\n",
    "import pandas as pd\n",
    "import shutil\n",
    "from scipy import ndimage"
   ]
  },
  {
   "cell_type": "code",
   "execution_count": null,
   "metadata": {},
   "outputs": [],
   "source": [
    "folders = sorted(glob.glob('Your Path Here//*'))\n",
    "data = pd.read_csv('Your Path Here/SeriesNumbers_modified.csv', header = None)\n",
    "data.columns =['PatientID', 'SeriesNumber']\n",
    "\n",
    "for i, path in enumerate(folders):\n",
    "    study = os.path.basename(os.path.normpath(path)) \n",
    "    study = study.replace(\" \", \"\")\n",
    "    print(study)\n",
    "    unsortedList = []\n",
    "    dst = os.path.join(path, 'sorted')\n",
    "    for file in os.listdir(path):\n",
    "        d = os.path.join(path, file)\n",
    "        if os.path.isdir(d):\n",
    "           for root, dirs, files in os.walk(path):\n",
    "            for file in files: \n",
    "                ds = pydicom.read_file(root + '/' + file, force=True)\n",
    "                if ds.SeriesNumber == data.loc[data['PatientID'] == study, 'SeriesNumber'].iloc[0]:\n",
    "                   unsortedList.append(os.path.join(root, file))\n",
    "        else:\n",
    "            ds = pydicom.read_file(path + '/' + file, force=True)\n",
    "            if ds.SeriesNumber == data.loc[data['PatientID'] == study, 'SeriesNumber'].iloc[0]:\n",
    "                unsortedList.append(os.path.join(path, file))\n",
    "        \n",
    "                  \n",
    "\n",
    "    for dicom_loc in unsortedList:\n",
    "        # read the file\n",
    "        ds = pydicom.read_file(dicom_loc, force=True)\n",
    "        # generate new, standardized file name\n",
    "        instanceNumber = str(ds.get(\"InstanceNumber\",\"0\"))\n",
    "        fileName = instanceNumber + \".dcm\"\n",
    "        # uncompress files (using the gdcm package)\n",
    "        try:\n",
    "            ds.decompress()\n",
    "        except:\n",
    "            print('an instance in file %s\" could not be decompressed. exiting.' % (seriesDescription))\n",
    "      \n",
    "        # save sorted files\n",
    "        if not os.path.exists(dst):\n",
    "            os.makedirs(dst)\n",
    "          \n",
    "        ds.save_as(os.path.join(dst, fileName))\n",
    "\n",
    "    print('done.')"
   ]
  },
  {
   "cell_type": "code",
   "execution_count": null,
   "metadata": {},
   "outputs": [],
   "source": [
    "folders = sorted(glob.glob('Your Path Here//*'))\n",
    "for i, path in enumerate(folders):\n",
    "    dst = os.path.join(path, 'sorted')\n",
    "    if os.path.exists(dst):\n",
    "       shutil.rmtree(dst)\n",
    "    "
   ]
  }
 ],
 "metadata": {
  "kernelspec": {
   "display_name": "Python 3 (ipykernel)",
   "language": "python",
   "name": "python3"
  },
  "language_info": {
   "codemirror_mode": {
    "name": "ipython",
    "version": 3
   },
   "file_extension": ".py",
   "mimetype": "text/x-python",
   "name": "python",
   "nbconvert_exporter": "python",
   "pygments_lexer": "ipython3",
   "version": "3.9.13"
  }
 },
 "nbformat": 4,
 "nbformat_minor": 4
}
